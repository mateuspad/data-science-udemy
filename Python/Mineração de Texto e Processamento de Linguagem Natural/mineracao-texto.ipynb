{
 "cells": [
  {
   "cell_type": "code",
   "execution_count": null,
   "id": "4ec550fe-6947-43bb-acfb-24784fa5070f",
   "metadata": {},
   "outputs": [],
   "source": [
    "# Formação Cientista de Dados - Fernando Amaral e Jones Granatyr\n",
    "# Mineração de textos\n",
    "# Importação das bibliotecas\n",
    "import matplotlib.pyplot as plt\n",
    "import nltk\n",
    "#nltk.download() (pode ser executado após instalar o nltk - pip install nltk)\n",
    "nltk.download('stopwords')\n",
    "from nltk.corpus import PlaintextCorpusReader\n",
    "from nltk.corpus import stopwords\n",
    "from matplotlib.colors import ListedColormap\n",
    "from wordcloud import WordCloud\n",
    "#conda install -c conda-forge wordcloud (executar no Anaconda Prompt)\n",
    "import string"
   ]
  },
  {
   "cell_type": "code",
   "execution_count": null,
   "id": "2addd3aa-2fe9-410b-b8cd-8389fafbf876",
   "metadata": {},
   "outputs": [],
   "source": [
    "# Criação de um corpus lendo textos do disco\n",
    "corpus = PlaintextCorpusReader('Arquivos', '.*', encoding = \"ISO-8859-1\")"
   ]
  },
  {
   "cell_type": "code",
   "execution_count": null,
   "id": "3ea6d711-e0e8-4246-be85-b2205ebc8489",
   "metadata": {},
   "outputs": [],
   "source": [
    "# Leitura dos arquivos do disco, percorrer os registros e mostrar o nome dos primeiros 100 arquivos\n",
    "arquivos = corpus.fileids()\n",
    "#primeiro arquivo\n",
    "arquivos[0]"
   ]
  },
  {
   "cell_type": "code",
   "execution_count": null,
   "id": "b4555f3b-94fd-477f-b54e-9c2d55f4416e",
   "metadata": {},
   "outputs": [],
   "source": [
    "#zero a 10\n",
    "arquivos[0:10]"
   ]
  },
  {
   "cell_type": "code",
   "execution_count": null,
   "id": "3f3285bc-a1b5-400c-8318-d993f08c8dd1",
   "metadata": {},
   "outputs": [],
   "source": [
    "#imprime todos os nomes\n",
    "for a in arquivos:\n",
    "    print(a)"
   ]
  },
  {
   "cell_type": "code",
   "execution_count": null,
   "id": "bef39e01-20a4-4004-ab81-1a71ee6ee03f",
   "metadata": {},
   "outputs": [],
   "source": [
    "# Acesso ao texto do primeiro arquivo\n",
    "texto = corpus.raw('1.txt')\n",
    "texto"
   ]
  },
  {
   "cell_type": "code",
   "execution_count": null,
   "id": "b27bdbcf-1d28-4143-85dd-c43e1a272359",
   "metadata": {},
   "outputs": [],
   "source": [
    "# Acesso a todos as palavras de todos os arquivos do corpus\n",
    "todo_texto = corpus.raw()\n",
    "#todo_texto"
   ]
  },
  {
   "cell_type": "code",
   "execution_count": null,
   "id": "07a4b845-caa7-41c4-aeb3-0a7c179b5ce4",
   "metadata": {},
   "outputs": [],
   "source": [
    "# Obtenção de todas as palavras do corpus e visualização da quantidade\n",
    "palavras = corpus.words()\n",
    "#acessando pelo indíce\n",
    "palavras[170]"
   ]
  },
  {
   "cell_type": "code",
   "execution_count": null,
   "id": "839c4f5c-ba87-4e7f-b535-85eaa1df4886",
   "metadata": {},
   "outputs": [],
   "source": [
    "#quantidade\n",
    "len(palavras)"
   ]
  },
  {
   "cell_type": "code",
   "execution_count": null,
   "id": "3bc67347-9b0d-486c-a590-8ed68c482b0a",
   "metadata": {},
   "outputs": [],
   "source": [
    "# Usando o NLTK, obtemos as stop word em inglês\n",
    "stops = stopwords.words('english')\n",
    "#stops = stopwords.words('portuguese')\n",
    "stops"
   ]
  },
  {
   "cell_type": "code",
   "execution_count": null,
   "id": "06e20f64-84aa-49d8-8b39-b3c6bb80dd9f",
   "metadata": {},
   "outputs": [],
   "source": [
    "# Definição das cores que serão utilizadas na nuvem de palavras\n",
    "mapa_cores = ListedColormap(['orange', 'green', 'red', 'magenta'])\n",
    "# Criação da nuvem de palavras, com no máximo 100 palavras e utilizando as stop words\n",
    "nuvem = WordCloud(background_color = 'white',\n",
    "                  colormap = mapa_cores,\n",
    "                  stopwords = stops,\n",
    "                  max_words = 100)\n",
    "# Criação e visualização da nuvem de palavras\n",
    "nuvem.generate(todo_texto)\n",
    "plt.imshow(nuvem)"
   ]
  },
  {
   "cell_type": "code",
   "execution_count": null,
   "id": "33494e6d-b53a-4d94-aac7-3f50adaf2353",
   "metadata": {},
   "outputs": [],
   "source": [
    "# Criação de nova lista de palavras, removendo stop words\n",
    "palavras_semstop = [p for p in palavras if p not in stops]\n",
    "len(palavras_semstop)"
   ]
  },
  {
   "cell_type": "code",
   "execution_count": null,
   "id": "50396ced-6598-44dc-92b2-6d257c68e5e4",
   "metadata": {},
   "outputs": [],
   "source": [
    "# Remoção da pontuação, gerando uma lista sem stop words e sem pontuação\n",
    "palavras_sem_pontuacao = [p for p in palavras_semstop if p not in string.punctuation]\n",
    "len(palavras_sem_pontuacao)"
   ]
  },
  {
   "cell_type": "code",
   "execution_count": null,
   "id": "8f4e8368-a208-488a-b50c-36c0ff9e9bae",
   "metadata": {},
   "outputs": [],
   "source": [
    "# Cálculo da frequência das palavras e visualização das mais comuns\n",
    "frequencia = nltk.FreqDist(palavras_sem_pontuacao)\n",
    "frequencia"
   ]
  },
  {
   "cell_type": "code",
   "execution_count": null,
   "id": "395a83a6-1dff-4490-bc60-56fea5a602a8",
   "metadata": {},
   "outputs": [],
   "source": [
    "#mais comuns\n",
    "mais_comuns = frequencia.most_common(100)\n",
    "mais_comuns"
   ]
  }
 ],
 "metadata": {
  "kernelspec": {
   "display_name": "Python 3 (ipykernel)",
   "language": "python",
   "name": "python3"
  },
  "language_info": {
   "codemirror_mode": {
    "name": "ipython",
    "version": 3
   },
   "file_extension": ".py",
   "mimetype": "text/x-python",
   "name": "python",
   "nbconvert_exporter": "python",
   "pygments_lexer": "ipython3",
   "version": "3.10.9"
  }
 },
 "nbformat": 4,
 "nbformat_minor": 5
}
