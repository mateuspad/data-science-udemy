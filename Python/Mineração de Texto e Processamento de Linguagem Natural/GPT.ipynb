{
 "cells": [
  {
   "cell_type": "code",
   "execution_count": null,
   "id": "a2c98f0f-89d6-488c-b660-9b99c26eece2",
   "metadata": {},
   "outputs": [],
   "source": [
    "import openai\n",
    "openai.api_key = \"API-KEY\""
   ]
  },
  {
   "cell_type": "code",
   "execution_count": null,
   "id": "e593da8c-746c-4e31-b598-220173f8b8f6",
   "metadata": {},
   "outputs": [],
   "source": [
    "response = openai.Completion.create(\n",
    "    model=\"text-davinci-003\",\n",
    "    prompt=\"Quem foi Carl Sagan?\",\n",
    "    max_tokens=4000    \n",
    "    )\n",
    "print(response.choices[0].text)\n",
    "#print(response)"
   ]
  },
  {
   "cell_type": "code",
   "execution_count": null,
   "id": "aab7299e-abd2-42fd-9760-5e4555c41cc4",
   "metadata": {},
   "outputs": [],
   "source": [
    "\n",
    "response = openai.Image.create(\n",
    "    prompt = \"crie uma imagem 3d de um disco voador na cor verde\",\n",
    "    size = \"512x512\",# \"246x256\"\n",
    "    n = 1,\n",
    "    response_format = \"url\"\n",
    ")\n",
    "print(response[\"data\"][0][\"url\"])"
   ]
  }
 ],
 "metadata": {
  "kernelspec": {
   "display_name": "Python 3 (ipykernel)",
   "language": "python",
   "name": "python3"
  },
  "language_info": {
   "codemirror_mode": {
    "name": "ipython",
    "version": 3
   },
   "file_extension": ".py",
   "mimetype": "text/x-python",
   "name": "python",
   "nbconvert_exporter": "python",
   "pygments_lexer": "ipython3",
   "version": "3.10.9"
  }
 },
 "nbformat": 4,
 "nbformat_minor": 5
}
