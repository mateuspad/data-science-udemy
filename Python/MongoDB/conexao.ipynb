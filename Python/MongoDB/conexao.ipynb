{
 "cells": [
  {
   "cell_type": "code",
   "execution_count": 2,
   "id": "7b0f417a-3366-4f4c-bb90-f461c80d73c0",
   "metadata": {},
   "outputs": [],
   "source": [
    "# Formação Cientista de Dados\n",
    "# Conexão Mongodb\n",
    "# pip install pymongo\n",
    "from pymongo import MongoClient"
   ]
  },
  {
   "cell_type": "code",
   "execution_count": 3,
   "id": "5a5f6fb1-a518-43e5-844c-4599b56c5031",
   "metadata": {},
   "outputs": [],
   "source": [
    "#conexão local padrão\n",
    "cliente = MongoClient('mongodb://localhost:27017/')\n",
    "#banco dbmidias\n",
    "db = cliente.dbmidias\n",
    "#coleção posts\n",
    "conexao = db.posts"
   ]
  },
  {
   "cell_type": "code",
   "execution_count": 4,
   "id": "4e510f47-447d-4e67-8dfd-40c4ea5a1215",
   "metadata": {},
   "outputs": [
    {
     "name": "stdout",
     "output_type": "stream",
     "text": [
      "{'_id': ObjectId('6447073b640463e48a40727f'), 'nome': 'José', 'postagem': 'Bons Produtos!', 'data': '31-06-2019'}\n"
     ]
    }
   ],
   "source": [
    "#um documento\n",
    "print(conexao.find_one())"
   ]
  },
  {
   "cell_type": "code",
   "execution_count": 13,
   "id": "5abd85c1-acdf-422c-86a6-e6fa7cf6b3f3",
   "metadata": {},
   "outputs": [
    {
     "ename": "AttributeError",
     "evalue": "'dict' object has no attribute 'find_one'",
     "output_type": "error",
     "traceback": [
      "\u001b[1;31m---------------------------------------------------------------------------\u001b[0m",
      "\u001b[1;31mAttributeError\u001b[0m                            Traceback (most recent call last)",
      "Cell \u001b[1;32mIn[13], line 1\u001b[0m\n\u001b[1;32m----> 1\u001b[0m \u001b[38;5;28mprint\u001b[39m(\u001b[43mconexao\u001b[49m\u001b[38;5;241;43m.\u001b[39;49m\u001b[43mfind_one\u001b[49m({\u001b[38;5;124m\"\u001b[39m\u001b[38;5;124mnome\u001b[39m\u001b[38;5;124m\"\u001b[39m:\u001b[38;5;124m\"\u001b[39m\u001b[38;5;124mMaria Silva\u001b[39m\u001b[38;5;124m\"\u001b[39m}))\n",
      "\u001b[1;31mAttributeError\u001b[0m: 'dict' object has no attribute 'find_one'"
     ]
    }
   ],
   "source": [
    "print(conexao.find_one({\"nome\":\"Maria Silva\"}))"
   ]
  },
  {
   "cell_type": "code",
   "execution_count": 6,
   "id": "77699ef8-b7cc-4703-9800-6ec53f852050",
   "metadata": {},
   "outputs": [
    {
     "name": "stdout",
     "output_type": "stream",
     "text": [
      "{'_id': ObjectId('6447073b640463e48a40727f'), 'nome': 'José', 'postagem': 'Bons Produtos!', 'data': '31-06-2019'}\n"
     ]
    }
   ],
   "source": [
    "#todos\n",
    "for conexao in conexao.find():\n",
    "    print(conexao)"
   ]
  },
  {
   "cell_type": "code",
   "execution_count": 7,
   "id": "712fd491-9e01-4eab-b856-0e7827b0f229",
   "metadata": {},
   "outputs": [],
   "source": [
    "cliente.close()"
   ]
  }
 ],
 "metadata": {
  "kernelspec": {
   "display_name": "Python 3 (ipykernel)",
   "language": "python",
   "name": "python3"
  },
  "language_info": {
   "codemirror_mode": {
    "name": "ipython",
    "version": 3
   },
   "file_extension": ".py",
   "mimetype": "text/x-python",
   "name": "python",
   "nbconvert_exporter": "python",
   "pygments_lexer": "ipython3",
   "version": "3.10.9"
  }
 },
 "nbformat": 4,
 "nbformat_minor": 5
}
