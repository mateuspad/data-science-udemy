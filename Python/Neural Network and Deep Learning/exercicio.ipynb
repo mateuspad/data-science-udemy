{
 "cells": [
  {
   "cell_type": "code",
   "execution_count": 1,
   "id": "b5314f30-0e36-4fa1-ac7d-7172cceb0d37",
   "metadata": {},
   "outputs": [],
   "source": [
    "# Formação Cientista de Dados - Fernando Amaral e Jones Granatyr\n",
    "# Faça Você Mesmo ML e RNA\n",
    "import pandas as pd\n",
    "from sklearn.preprocessing import LabelEncoder\n",
    "from sklearn.model_selection import train_test_split\n",
    "from sklearn.ensemble import RandomForestClassifier\n",
    "from sklearn.metrics import confusion_matrix, accuracy_score"
   ]
  },
  {
   "cell_type": "code",
   "execution_count": 3,
   "id": "6af3c712-aff2-4e79-b1c6-bc567e87c3bf",
   "metadata": {},
   "outputs": [
    {
     "data": {
      "text/html": [
       "<div>\n",
       "<style scoped>\n",
       "    .dataframe tbody tr th:only-of-type {\n",
       "        vertical-align: middle;\n",
       "    }\n",
       "\n",
       "    .dataframe tbody tr th {\n",
       "        vertical-align: top;\n",
       "    }\n",
       "\n",
       "    .dataframe thead th {\n",
       "        text-align: right;\n",
       "    }\n",
       "</style>\n",
       "<table border=\"1\" class=\"dataframe\">\n",
       "  <thead>\n",
       "    <tr style=\"text-align: right;\">\n",
       "      <th></th>\n",
       "      <th>date</th>\n",
       "      <th>plant-stand</th>\n",
       "      <th>precip</th>\n",
       "      <th>temp</th>\n",
       "      <th>hail</th>\n",
       "      <th>crop-hist</th>\n",
       "      <th>area-damaged</th>\n",
       "      <th>severity</th>\n",
       "      <th>seed-tmt</th>\n",
       "      <th>germination</th>\n",
       "      <th>...</th>\n",
       "      <th>sclerotia</th>\n",
       "      <th>fruit-pods</th>\n",
       "      <th>fruit-spots</th>\n",
       "      <th>seed</th>\n",
       "      <th>mold-growth</th>\n",
       "      <th>seed-discolor</th>\n",
       "      <th>seed-size</th>\n",
       "      <th>shriveling</th>\n",
       "      <th>roots</th>\n",
       "      <th>class</th>\n",
       "    </tr>\n",
       "  </thead>\n",
       "  <tbody>\n",
       "    <tr>\n",
       "      <th>0</th>\n",
       "      <td>october</td>\n",
       "      <td>normal</td>\n",
       "      <td>gt-norm</td>\n",
       "      <td>norm</td>\n",
       "      <td>yes</td>\n",
       "      <td>same-lst-yr</td>\n",
       "      <td>low-areas</td>\n",
       "      <td>pot-severe</td>\n",
       "      <td>none</td>\n",
       "      <td>90-100</td>\n",
       "      <td>...</td>\n",
       "      <td>absent</td>\n",
       "      <td>norm</td>\n",
       "      <td>dna</td>\n",
       "      <td>norm</td>\n",
       "      <td>absent</td>\n",
       "      <td>absent</td>\n",
       "      <td>norm</td>\n",
       "      <td>absent</td>\n",
       "      <td>norm</td>\n",
       "      <td>diaporthe-stem-canker</td>\n",
       "    </tr>\n",
       "    <tr>\n",
       "      <th>1</th>\n",
       "      <td>august</td>\n",
       "      <td>normal</td>\n",
       "      <td>gt-norm</td>\n",
       "      <td>norm</td>\n",
       "      <td>yes</td>\n",
       "      <td>same-lst-two-yrs</td>\n",
       "      <td>scattered</td>\n",
       "      <td>severe</td>\n",
       "      <td>fungicide</td>\n",
       "      <td>80-89</td>\n",
       "      <td>...</td>\n",
       "      <td>absent</td>\n",
       "      <td>norm</td>\n",
       "      <td>dna</td>\n",
       "      <td>norm</td>\n",
       "      <td>absent</td>\n",
       "      <td>absent</td>\n",
       "      <td>norm</td>\n",
       "      <td>absent</td>\n",
       "      <td>norm</td>\n",
       "      <td>diaporthe-stem-canker</td>\n",
       "    </tr>\n",
       "    <tr>\n",
       "      <th>2</th>\n",
       "      <td>july</td>\n",
       "      <td>normal</td>\n",
       "      <td>gt-norm</td>\n",
       "      <td>norm</td>\n",
       "      <td>yes</td>\n",
       "      <td>same-lst-yr</td>\n",
       "      <td>scattered</td>\n",
       "      <td>severe</td>\n",
       "      <td>fungicide</td>\n",
       "      <td>lt-80</td>\n",
       "      <td>...</td>\n",
       "      <td>absent</td>\n",
       "      <td>norm</td>\n",
       "      <td>dna</td>\n",
       "      <td>norm</td>\n",
       "      <td>absent</td>\n",
       "      <td>absent</td>\n",
       "      <td>norm</td>\n",
       "      <td>absent</td>\n",
       "      <td>norm</td>\n",
       "      <td>diaporthe-stem-canker</td>\n",
       "    </tr>\n",
       "    <tr>\n",
       "      <th>3</th>\n",
       "      <td>july</td>\n",
       "      <td>normal</td>\n",
       "      <td>gt-norm</td>\n",
       "      <td>norm</td>\n",
       "      <td>yes</td>\n",
       "      <td>same-lst-yr</td>\n",
       "      <td>scattered</td>\n",
       "      <td>severe</td>\n",
       "      <td>none</td>\n",
       "      <td>80-89</td>\n",
       "      <td>...</td>\n",
       "      <td>absent</td>\n",
       "      <td>norm</td>\n",
       "      <td>dna</td>\n",
       "      <td>norm</td>\n",
       "      <td>absent</td>\n",
       "      <td>absent</td>\n",
       "      <td>norm</td>\n",
       "      <td>absent</td>\n",
       "      <td>norm</td>\n",
       "      <td>diaporthe-stem-canker</td>\n",
       "    </tr>\n",
       "    <tr>\n",
       "      <th>4</th>\n",
       "      <td>october</td>\n",
       "      <td>normal</td>\n",
       "      <td>gt-norm</td>\n",
       "      <td>norm</td>\n",
       "      <td>yes</td>\n",
       "      <td>same-lst-two-yrs</td>\n",
       "      <td>scattered</td>\n",
       "      <td>pot-severe</td>\n",
       "      <td>none</td>\n",
       "      <td>lt-80</td>\n",
       "      <td>...</td>\n",
       "      <td>absent</td>\n",
       "      <td>norm</td>\n",
       "      <td>dna</td>\n",
       "      <td>norm</td>\n",
       "      <td>absent</td>\n",
       "      <td>absent</td>\n",
       "      <td>norm</td>\n",
       "      <td>absent</td>\n",
       "      <td>norm</td>\n",
       "      <td>diaporthe-stem-canker</td>\n",
       "    </tr>\n",
       "  </tbody>\n",
       "</table>\n",
       "<p>5 rows × 36 columns</p>\n",
       "</div>"
      ],
      "text/plain": [
       "      date plant-stand   precip  temp hail         crop-hist area-damaged  \\\n",
       "0  october      normal  gt-norm  norm  yes       same-lst-yr    low-areas   \n",
       "1   august      normal  gt-norm  norm  yes  same-lst-two-yrs    scattered   \n",
       "2     july      normal  gt-norm  norm  yes       same-lst-yr    scattered   \n",
       "3     july      normal  gt-norm  norm  yes       same-lst-yr    scattered   \n",
       "4  october      normal  gt-norm  norm  yes  same-lst-two-yrs    scattered   \n",
       "\n",
       "     severity   seed-tmt germination  ... sclerotia fruit-pods fruit-spots  \\\n",
       "0  pot-severe       none      90-100  ...    absent       norm         dna   \n",
       "1      severe  fungicide       80-89  ...    absent       norm         dna   \n",
       "2      severe  fungicide       lt-80  ...    absent       norm         dna   \n",
       "3      severe       none       80-89  ...    absent       norm         dna   \n",
       "4  pot-severe       none       lt-80  ...    absent       norm         dna   \n",
       "\n",
       "   seed mold-growth seed-discolor seed-size shriveling roots  \\\n",
       "0  norm      absent        absent      norm     absent  norm   \n",
       "1  norm      absent        absent      norm     absent  norm   \n",
       "2  norm      absent        absent      norm     absent  norm   \n",
       "3  norm      absent        absent      norm     absent  norm   \n",
       "4  norm      absent        absent      norm     absent  norm   \n",
       "\n",
       "                   class  \n",
       "0  diaporthe-stem-canker  \n",
       "1  diaporthe-stem-canker  \n",
       "2  diaporthe-stem-canker  \n",
       "3  diaporthe-stem-canker  \n",
       "4  diaporthe-stem-canker  \n",
       "\n",
       "[5 rows x 36 columns]"
      ]
     },
     "execution_count": 3,
     "metadata": {},
     "output_type": "execute_result"
    }
   ],
   "source": [
    "base = pd.read_csv('soybean.csv')\n",
    "base.head()"
   ]
  },
  {
   "cell_type": "code",
   "execution_count": 4,
   "id": "a3dc5209-3445-4b9f-b7b7-c97e168a8b65",
   "metadata": {},
   "outputs": [
    {
     "data": {
      "text/plain": [
       "(683, 36)"
      ]
     },
     "execution_count": 4,
     "metadata": {},
     "output_type": "execute_result"
    }
   ],
   "source": [
    "base.shape"
   ]
  },
  {
   "cell_type": "code",
   "execution_count": 5,
   "id": "1014f04b-8978-44be-84fb-ffc7fb253f8f",
   "metadata": {},
   "outputs": [],
   "source": [
    "# Criação da variável X que presenta os atributos previsores\n",
    "X = base.iloc[:, 0:35].values"
   ]
  },
  {
   "cell_type": "code",
   "execution_count": 6,
   "id": "430c6ef1-59cc-4c91-a2fd-ef4186582eae",
   "metadata": {},
   "outputs": [],
   "source": [
    "# Criação da variável y que contém as respostas\n",
    "y = base.iloc[:, 35].values"
   ]
  },
  {
   "cell_type": "code",
   "execution_count": 7,
   "id": "7639b957-bf99-4464-9f1d-bb67615365d3",
   "metadata": {},
   "outputs": [],
   "source": [
    "labelencoder = LabelEncoder()\n",
    "\n",
    "for x in range(35):\n",
    "    X[:, x] = labelencoder.fit_transform(X[:, x])"
   ]
  },
  {
   "cell_type": "code",
   "execution_count": 8,
   "id": "9e44b834-6dc3-48dd-a22d-b58fd266590e",
   "metadata": {},
   "outputs": [],
   "source": [
    "# Divisão da base em treino e teste (70% para treinamento e 30% para teste)\n",
    "from sklearn.model_selection import train_test_split\n",
    "X_treinamento, X_teste, y_treinamento, y_teste = train_test_split(X, y, \n",
    "                                                                  test_size=0.3,\n",
    "                                                                  random_state=0)"
   ]
  },
  {
   "cell_type": "code",
   "execution_count": 9,
   "id": "294abbff-7364-4f15-ac88-b58d2424338d",
   "metadata": {},
   "outputs": [
    {
     "data": {
      "text/html": [
       "<style>#sk-container-id-1 {color: black;background-color: white;}#sk-container-id-1 pre{padding: 0;}#sk-container-id-1 div.sk-toggleable {background-color: white;}#sk-container-id-1 label.sk-toggleable__label {cursor: pointer;display: block;width: 100%;margin-bottom: 0;padding: 0.3em;box-sizing: border-box;text-align: center;}#sk-container-id-1 label.sk-toggleable__label-arrow:before {content: \"▸\";float: left;margin-right: 0.25em;color: #696969;}#sk-container-id-1 label.sk-toggleable__label-arrow:hover:before {color: black;}#sk-container-id-1 div.sk-estimator:hover label.sk-toggleable__label-arrow:before {color: black;}#sk-container-id-1 div.sk-toggleable__content {max-height: 0;max-width: 0;overflow: hidden;text-align: left;background-color: #f0f8ff;}#sk-container-id-1 div.sk-toggleable__content pre {margin: 0.2em;color: black;border-radius: 0.25em;background-color: #f0f8ff;}#sk-container-id-1 input.sk-toggleable__control:checked~div.sk-toggleable__content {max-height: 200px;max-width: 100%;overflow: auto;}#sk-container-id-1 input.sk-toggleable__control:checked~label.sk-toggleable__label-arrow:before {content: \"▾\";}#sk-container-id-1 div.sk-estimator input.sk-toggleable__control:checked~label.sk-toggleable__label {background-color: #d4ebff;}#sk-container-id-1 div.sk-label input.sk-toggleable__control:checked~label.sk-toggleable__label {background-color: #d4ebff;}#sk-container-id-1 input.sk-hidden--visually {border: 0;clip: rect(1px 1px 1px 1px);clip: rect(1px, 1px, 1px, 1px);height: 1px;margin: -1px;overflow: hidden;padding: 0;position: absolute;width: 1px;}#sk-container-id-1 div.sk-estimator {font-family: monospace;background-color: #f0f8ff;border: 1px dotted black;border-radius: 0.25em;box-sizing: border-box;margin-bottom: 0.5em;}#sk-container-id-1 div.sk-estimator:hover {background-color: #d4ebff;}#sk-container-id-1 div.sk-parallel-item::after {content: \"\";width: 100%;border-bottom: 1px solid gray;flex-grow: 1;}#sk-container-id-1 div.sk-label:hover label.sk-toggleable__label {background-color: #d4ebff;}#sk-container-id-1 div.sk-serial::before {content: \"\";position: absolute;border-left: 1px solid gray;box-sizing: border-box;top: 0;bottom: 0;left: 50%;z-index: 0;}#sk-container-id-1 div.sk-serial {display: flex;flex-direction: column;align-items: center;background-color: white;padding-right: 0.2em;padding-left: 0.2em;position: relative;}#sk-container-id-1 div.sk-item {position: relative;z-index: 1;}#sk-container-id-1 div.sk-parallel {display: flex;align-items: stretch;justify-content: center;background-color: white;position: relative;}#sk-container-id-1 div.sk-item::before, #sk-container-id-1 div.sk-parallel-item::before {content: \"\";position: absolute;border-left: 1px solid gray;box-sizing: border-box;top: 0;bottom: 0;left: 50%;z-index: -1;}#sk-container-id-1 div.sk-parallel-item {display: flex;flex-direction: column;z-index: 1;position: relative;background-color: white;}#sk-container-id-1 div.sk-parallel-item:first-child::after {align-self: flex-end;width: 50%;}#sk-container-id-1 div.sk-parallel-item:last-child::after {align-self: flex-start;width: 50%;}#sk-container-id-1 div.sk-parallel-item:only-child::after {width: 0;}#sk-container-id-1 div.sk-dashed-wrapped {border: 1px dashed gray;margin: 0 0.4em 0.5em 0.4em;box-sizing: border-box;padding-bottom: 0.4em;background-color: white;}#sk-container-id-1 div.sk-label label {font-family: monospace;font-weight: bold;display: inline-block;line-height: 1.2em;}#sk-container-id-1 div.sk-label-container {text-align: center;}#sk-container-id-1 div.sk-container {/* jupyter's `normalize.less` sets `[hidden] { display: none; }` but bootstrap.min.css set `[hidden] { display: none !important; }` so we also need the `!important` here to be able to override the default hidden behavior on the sphinx rendered scikit-learn.org. See: https://github.com/scikit-learn/scikit-learn/issues/21755 */display: inline-block !important;position: relative;}#sk-container-id-1 div.sk-text-repr-fallback {display: none;}</style><div id=\"sk-container-id-1\" class=\"sk-top-container\"><div class=\"sk-text-repr-fallback\"><pre>RandomForestClassifier()</pre><b>In a Jupyter environment, please rerun this cell to show the HTML representation or trust the notebook. <br />On GitHub, the HTML representation is unable to render, please try loading this page with nbviewer.org.</b></div><div class=\"sk-container\" hidden><div class=\"sk-item\"><div class=\"sk-estimator sk-toggleable\"><input class=\"sk-toggleable__control sk-hidden--visually\" id=\"sk-estimator-id-1\" type=\"checkbox\" checked><label for=\"sk-estimator-id-1\" class=\"sk-toggleable__label sk-toggleable__label-arrow\">RandomForestClassifier</label><div class=\"sk-toggleable__content\"><pre>RandomForestClassifier()</pre></div></div></div></div></div>"
      ],
      "text/plain": [
       "RandomForestClassifier()"
      ]
     },
     "execution_count": 9,
     "metadata": {},
     "output_type": "execute_result"
    }
   ],
   "source": [
    "# Criação do classificador Random Forest\n",
    "from sklearn.ensemble import RandomForestClassifier\n",
    "floresta = RandomForestClassifier(n_estimators = 100)\n",
    "floresta.fit(X_treinamento, y_treinamento)"
   ]
  },
  {
   "cell_type": "code",
   "execution_count": 10,
   "id": "bfb7fb42-82f5-42e0-b834-d1b951d16446",
   "metadata": {},
   "outputs": [
    {
     "data": {
      "text/plain": [
       "array(['brown-spot', 'phytophthora-rot', 'herbicide-injury',\n",
       "       'purple-seed-stain', 'cyst-nematode', 'bacterial-blight',\n",
       "       'brown-stem-rot', 'bacterial-pustule', 'brown-spot',\n",
       "       'alternarialeaf-spot', 'charcoal-rot', 'bacterial-blight',\n",
       "       'anthracnose', 'anthracnose', 'alternarialeaf-spot', 'brown-spot',\n",
       "       'alternarialeaf-spot', 'alternarialeaf-spot',\n",
       "       'rhizoctonia-root-rot', 'phytophthora-rot', 'anthracnose',\n",
       "       'brown-stem-rot', 'brown-spot', 'phyllosticta-leaf-spot',\n",
       "       'diaporthe-stem-canker', 'brown-spot', 'anthracnose',\n",
       "       'diaporthe-stem-canker', 'bacterial-pustule', 'phytophthora-rot',\n",
       "       'frog-eye-leaf-spot', 'alternarialeaf-spot',\n",
       "       'phyllosticta-leaf-spot', 'frog-eye-leaf-spot', 'brown-spot',\n",
       "       'bacterial-pustule', 'brown-stem-rot', 'charcoal-rot',\n",
       "       'brown-spot', 'brown-spot', 'brown-stem-rot',\n",
       "       'alternarialeaf-spot', 'phytophthora-rot', 'anthracnose',\n",
       "       'bacterial-blight', '2-4-d-injury', 'alternarialeaf-spot',\n",
       "       'phyllosticta-leaf-spot', 'phyllosticta-leaf-spot',\n",
       "       'alternarialeaf-spot', 'brown-spot', 'brown-stem-rot',\n",
       "       'phytophthora-rot', 'frog-eye-leaf-spot', 'brown-stem-rot',\n",
       "       'frog-eye-leaf-spot', 'frog-eye-leaf-spot',\n",
       "       'diaporthe-stem-canker', 'brown-stem-rot', 'downy-mildew',\n",
       "       'bacterial-pustule', 'downy-mildew', 'alternarialeaf-spot',\n",
       "       'alternarialeaf-spot', 'bacterial-blight', 'anthracnose',\n",
       "       'rhizoctonia-root-rot', 'brown-spot', 'phytophthora-rot',\n",
       "       'phytophthora-rot', 'cyst-nematode', 'alternarialeaf-spot',\n",
       "       'alternarialeaf-spot', 'brown-spot', 'rhizoctonia-root-rot',\n",
       "       'phytophthora-rot', 'phytophthora-rot', 'frog-eye-leaf-spot',\n",
       "       'frog-eye-leaf-spot', 'diaporthe-stem-canker', 'brown-spot',\n",
       "       'frog-eye-leaf-spot', 'alternarialeaf-spot',\n",
       "       'diaporthe-stem-canker', 'purple-seed-stain', 'phytophthora-rot',\n",
       "       'anthracnose', 'alternarialeaf-spot', 'frog-eye-leaf-spot',\n",
       "       'phytophthora-rot', 'charcoal-rot', 'brown-spot',\n",
       "       'diaporthe-stem-canker', 'phytophthora-rot', 'phytophthora-rot',\n",
       "       'phytophthora-rot', 'brown-spot', 'phytophthora-rot',\n",
       "       'downy-mildew', 'alternarialeaf-spot', 'anthracnose',\n",
       "       'alternarialeaf-spot', 'brown-spot', 'alternarialeaf-spot',\n",
       "       'charcoal-rot', 'downy-mildew', 'phytophthora-rot', 'brown-spot',\n",
       "       'brown-spot', 'cyst-nematode', 'anthracnose', 'brown-spot',\n",
       "       'alternarialeaf-spot', 'alternarialeaf-spot', 'charcoal-rot',\n",
       "       'phyllosticta-leaf-spot', 'frog-eye-leaf-spot', 'phytophthora-rot',\n",
       "       'brown-stem-rot', 'phytophthora-rot', 'phytophthora-rot',\n",
       "       'charcoal-rot', 'frog-eye-leaf-spot', 'phytophthora-rot',\n",
       "       '2-4-d-injury', 'phytophthora-rot', 'brown-spot',\n",
       "       'alternarialeaf-spot', 'anthracnose',\n",
       "       'diaporthe-pod-&-stem-blight', 'brown-spot', 'anthracnose',\n",
       "       'rhizoctonia-root-rot', 'brown-spot', 'purple-seed-stain',\n",
       "       'bacterial-pustule', 'brown-stem-rot', 'diaporthe-stem-canker',\n",
       "       'brown-spot', 'frog-eye-leaf-spot', 'brown-stem-rot',\n",
       "       'downy-mildew', 'frog-eye-leaf-spot', 'purple-seed-stain',\n",
       "       'brown-spot', 'frog-eye-leaf-spot', 'alternarialeaf-spot',\n",
       "       'powdery-mildew', 'frog-eye-leaf-spot', 'phyllosticta-leaf-spot',\n",
       "       '2-4-d-injury', 'phytophthora-rot', 'frog-eye-leaf-spot',\n",
       "       'phytophthora-rot', 'bacterial-blight', 'bacterial-blight',\n",
       "       'brown-stem-rot', 'bacterial-blight', 'purple-seed-stain',\n",
       "       'herbicide-injury', 'diaporthe-pod-&-stem-blight',\n",
       "       'phyllosticta-leaf-spot', 'brown-spot', 'charcoal-rot',\n",
       "       'bacterial-pustule', 'cyst-nematode', 'brown-spot',\n",
       "       'bacterial-blight', 'charcoal-rot', 'brown-stem-rot',\n",
       "       'powdery-mildew', 'alternarialeaf-spot', 'phytophthora-rot',\n",
       "       'alternarialeaf-spot', 'cyst-nematode', 'phytophthora-rot',\n",
       "       'frog-eye-leaf-spot', 'alternarialeaf-spot', 'frog-eye-leaf-spot',\n",
       "       'anthracnose', 'alternarialeaf-spot', 'charcoal-rot',\n",
       "       'alternarialeaf-spot', 'alternarialeaf-spot',\n",
       "       'diaporthe-stem-canker', 'frog-eye-leaf-spot', 'brown-stem-rot',\n",
       "       'frog-eye-leaf-spot', 'diaporthe-pod-&-stem-blight',\n",
       "       'phytophthora-rot', 'diaporthe-pod-&-stem-blight',\n",
       "       'frog-eye-leaf-spot', 'anthracnose', 'alternarialeaf-spot',\n",
       "       'frog-eye-leaf-spot', 'phytophthora-rot', 'powdery-mildew',\n",
       "       'alternarialeaf-spot', 'herbicide-injury', 'brown-spot',\n",
       "       'anthracnose', 'diaporthe-pod-&-stem-blight', 'purple-seed-stain',\n",
       "       'bacterial-pustule', 'diaporthe-pod-&-stem-blight'], dtype=object)"
      ]
     },
     "execution_count": 10,
     "metadata": {},
     "output_type": "execute_result"
    }
   ],
   "source": [
    "# Previsões\n",
    "previsoes = floresta.predict(X_teste)\n",
    "previsoes"
   ]
  },
  {
   "cell_type": "code",
   "execution_count": 11,
   "id": "980057c9-4dd0-471e-838a-2bcb7e00ac74",
   "metadata": {},
   "outputs": [
    {
     "data": {
      "text/plain": [
       "array([[ 3,  0,  0,  0,  0,  0,  0,  0,  0,  0,  0,  0,  0,  0,  0,  0,\n",
       "         0,  0,  0],\n",
       "       [ 0, 26,  0,  0,  0,  0,  0,  0,  0,  0,  0,  0,  1,  0,  0,  0,\n",
       "         0,  0,  0],\n",
       "       [ 0,  0, 14,  0,  0,  0,  0,  0,  0,  0,  0,  0,  0,  0,  0,  0,\n",
       "         0,  0,  0],\n",
       "       [ 0,  0,  0,  8,  0,  0,  0,  0,  0,  0,  0,  0,  0,  0,  0,  0,\n",
       "         0,  0,  0],\n",
       "       [ 0,  0,  0,  0,  7,  0,  0,  0,  0,  0,  0,  0,  0,  0,  0,  0,\n",
       "         0,  0,  0],\n",
       "       [ 0,  0,  0,  0,  0, 22,  0,  0,  0,  0,  0,  0,  0,  0,  1,  0,\n",
       "         0,  0,  0],\n",
       "       [ 0,  0,  0,  0,  0,  0, 13,  0,  0,  0,  0,  0,  0,  0,  0,  0,\n",
       "         0,  0,  0],\n",
       "       [ 0,  0,  0,  0,  0,  0,  0,  9,  0,  0,  0,  0,  0,  0,  0,  0,\n",
       "         0,  0,  0],\n",
       "       [ 0,  0,  0,  0,  0,  0,  0,  0,  5,  0,  0,  0,  0,  0,  0,  0,\n",
       "         0,  0,  0],\n",
       "       [ 0,  0,  0,  0,  0,  0,  0,  0,  0,  6,  0,  0,  0,  0,  0,  0,\n",
       "         0,  0,  0],\n",
       "       [ 0,  0,  0,  0,  0,  0,  0,  0,  0,  0,  8,  0,  0,  0,  0,  0,\n",
       "         0,  0,  0],\n",
       "       [ 0,  0,  0,  0,  0,  0,  0,  0,  0,  0,  0,  5,  0,  0,  0,  0,\n",
       "         0,  0,  0],\n",
       "       [ 0,  3,  0,  0,  0,  2,  0,  0,  0,  0,  0,  0, 21,  0,  1,  0,\n",
       "         0,  0,  0],\n",
       "       [ 0,  0,  0,  0,  0,  0,  0,  0,  0,  0,  0,  0,  0,  3,  0,  0,\n",
       "         0,  0,  0],\n",
       "       [ 0,  0,  0,  0,  0,  2,  0,  0,  0,  0,  0,  0,  0,  0,  5,  0,\n",
       "         0,  0,  0],\n",
       "       [ 0,  0,  0,  0,  0,  0,  0,  0,  0,  0,  0,  0,  0,  0,  0, 26,\n",
       "         0,  0,  0],\n",
       "       [ 0,  0,  0,  0,  0,  0,  0,  0,  0,  0,  0,  0,  0,  0,  0,  0,\n",
       "         3,  0,  0],\n",
       "       [ 0,  0,  0,  0,  0,  0,  0,  0,  0,  0,  0,  0,  0,  0,  0,  0,\n",
       "         0,  6,  0],\n",
       "       [ 0,  0,  0,  0,  0,  0,  0,  0,  0,  0,  0,  0,  0,  0,  0,  1,\n",
       "         0,  0,  4]], dtype=int64)"
      ]
     },
     "execution_count": 11,
     "metadata": {},
     "output_type": "execute_result"
    }
   ],
   "source": [
    "from sklearn.metrics import confusion_matrix, accuracy_score\n",
    "matriz = confusion_matrix(y_teste, previsoes)\n",
    "matriz"
   ]
  },
  {
   "cell_type": "code",
   "execution_count": 12,
   "id": "3c699017-f5a1-4a5f-99d5-98c3971fdc92",
   "metadata": {},
   "outputs": [
    {
     "data": {
      "text/plain": [
       "0.9463414634146341"
      ]
     },
     "execution_count": 12,
     "metadata": {},
     "output_type": "execute_result"
    }
   ],
   "source": [
    "taxa_acerto = accuracy_score(y_teste, previsoes)\n",
    "taxa_acerto"
   ]
  },
  {
   "cell_type": "code",
   "execution_count": 13,
   "id": "8dec8056-7477-4614-8806-da81468590ee",
   "metadata": {},
   "outputs": [
    {
     "data": {
      "text/plain": [
       "0.0536585365853659"
      ]
     },
     "execution_count": 13,
     "metadata": {},
     "output_type": "execute_result"
    }
   ],
   "source": [
    "taxa_erro = 1 - taxa_acerto\n",
    "taxa_erro"
   ]
  }
 ],
 "metadata": {
  "kernelspec": {
   "display_name": "Python 3 (ipykernel)",
   "language": "python",
   "name": "python3"
  },
  "language_info": {
   "codemirror_mode": {
    "name": "ipython",
    "version": 3
   },
   "file_extension": ".py",
   "mimetype": "text/x-python",
   "name": "python",
   "nbconvert_exporter": "python",
   "pygments_lexer": "ipython3",
   "version": "3.10.9"
  }
 },
 "nbformat": 4,
 "nbformat_minor": 5
}
