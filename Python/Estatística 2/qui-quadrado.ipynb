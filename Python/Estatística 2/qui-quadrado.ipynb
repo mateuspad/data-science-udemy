{
 "cells": [
  {
   "cell_type": "code",
   "execution_count": 1,
   "id": "286f8ade-271d-4eaa-9bba-b7ef0048ed61",
   "metadata": {},
   "outputs": [],
   "source": [
    "# Formação Cientista de Dados - Fernando Amaral e Jones Granatyr\n",
    "# Qui Quadrado\n",
    "# Importação das funções, chi2_contingency porque temos 2 categorias\n",
    "import numpy as np\n",
    "from scipy.stats import chi2_contingency"
   ]
  },
  {
   "cell_type": "code",
   "execution_count": 2,
   "id": "490b6ab0-e31c-43e2-bd1e-f01bf57ea497",
   "metadata": {},
   "outputs": [
    {
     "data": {
      "text/plain": [
       "array([[19,  6],\n",
       "       [43, 32]])"
      ]
     },
     "execution_count": 2,
     "metadata": {},
     "output_type": "execute_result"
    }
   ],
   "source": [
    "# Criação da matriz com os dados e execução do teste\n",
    "novela = np.array([[19, 6], [43, 32]])\n",
    "novela"
   ]
  },
  {
   "cell_type": "code",
   "execution_count": 3,
   "id": "f2899e37-660d-47b7-9ecf-b9aeb091ea95",
   "metadata": {},
   "outputs": [
    {
     "data": {
      "text/plain": [
       "Chi2ContingencyResult(statistic=2.037351443123939, pvalue=0.15347667161786666, dof=1, expected_freq=array([[15.5,  9.5],\n",
       "       [46.5, 28.5]]))"
      ]
     },
     "execution_count": 3,
     "metadata": {},
     "output_type": "execute_result"
    }
   ],
   "source": [
    "#segundo valor é o pvalue\n",
    "#Valor de p é maior que 0,05 não há evidências de diferença significativa (hipótese nula): não há diferença significativa\n",
    "chi2_contingency(novela)"
   ]
  },
  {
   "cell_type": "code",
   "execution_count": 4,
   "id": "84dcf898-69f3-450f-810f-e2903996e44c",
   "metadata": {},
   "outputs": [
    {
     "data": {
      "text/plain": [
       "array([[22,  3],\n",
       "       [43, 32]])"
      ]
     },
     "execution_count": 4,
     "metadata": {},
     "output_type": "execute_result"
    }
   ],
   "source": [
    "novela2 = np.array([[22, 3], [43, 32]])\n",
    "novela2"
   ]
  },
  {
   "cell_type": "code",
   "execution_count": 5,
   "id": "8233edb0-2435-4ee2-ba19-e526ec569232",
   "metadata": {},
   "outputs": [
    {
     "data": {
      "text/plain": [
       "Chi2ContingencyResult(statistic=6.461538461538461, pvalue=0.011023416388221425, dof=1, expected_freq=array([[16.25,  8.75],\n",
       "       [48.75, 26.25]]))"
      ]
     },
     "execution_count": 5,
     "metadata": {},
     "output_type": "execute_result"
    }
   ],
   "source": [
    "#agora valor de p menor que 0,05, podemos rejeitar a hipótese nula em favor da hipótese alternativa: há diferença significativa\n",
    "chi2_contingency(novela2)"
   ]
  }
 ],
 "metadata": {
  "kernelspec": {
   "display_name": "Python 3 (ipykernel)",
   "language": "python",
   "name": "python3"
  },
  "language_info": {
   "codemirror_mode": {
    "name": "ipython",
    "version": 3
   },
   "file_extension": ".py",
   "mimetype": "text/x-python",
   "name": "python",
   "nbconvert_exporter": "python",
   "pygments_lexer": "ipython3",
   "version": "3.10.9"
  }
 },
 "nbformat": 4,
 "nbformat_minor": 5
}
