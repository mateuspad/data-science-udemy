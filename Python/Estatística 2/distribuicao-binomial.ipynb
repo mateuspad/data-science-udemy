{
 "cells": [
  {
   "cell_type": "code",
   "execution_count": 1,
   "id": "e26bad33-e7bf-465d-a6e6-03fdae881900",
   "metadata": {},
   "outputs": [],
   "source": [
    "# Formação Cientista de Dados - Fernando Amaral e Jones Granatyr\n",
    "# Distribuição binomial\n",
    "# Importação da função binom\n",
    "from scipy.stats import binom"
   ]
  },
  {
   "cell_type": "code",
   "execution_count": null,
   "id": "3b23572a-9c9b-408b-991b-f6f8aac81b74",
   "metadata": {},
   "outputs": [],
   "source": [
    "# Jogar uma moeda 5 vezes, qual a probabilidade de dar cara 3 vezes?\n",
    "# eventos , experimentos, probabilidades"
   ]
  },
  {
   "cell_type": "code",
   "execution_count": 2,
   "id": "b9382949-10cb-43c9-aac8-bf086ca6e798",
   "metadata": {},
   "outputs": [
    {
     "data": {
      "text/plain": [
       "0.31249999999999983"
      ]
     },
     "execution_count": 2,
     "metadata": {},
     "output_type": "execute_result"
    }
   ],
   "source": [
    "prob = binom.pmf(3, 5, 0.5)\n",
    "prob"
   ]
  },
  {
   "cell_type": "code",
   "execution_count": 3,
   "id": "90971fc2-5ef9-42aa-a398-ecbcf602ff16",
   "metadata": {},
   "outputs": [
    {
     "data": {
      "text/plain": [
       "1.0000000000000002"
      ]
     },
     "execution_count": 3,
     "metadata": {},
     "output_type": "execute_result"
    }
   ],
   "source": [
    "# Passar por 4 sinais de 4 tempos, qual a probabilidade de pegar sinal verde\n",
    "# nenhuma, 1, 2, 3 ou 4 vezes seguidas?\n",
    "binom.pmf(0, 4, 0.25) + binom.pmf(1, 4, 0.25) + binom.pmf(2, 4, 0.25) + binom.pmf(3, 4, 0.25) + binom.pmf(4, 4, 0.25)"
   ]
  },
  {
   "cell_type": "code",
   "execution_count": 4,
   "id": "1646e215-d95a-4584-a71d-d4eacbcff277",
   "metadata": {},
   "outputs": [
    {
     "data": {
      "text/plain": [
       "0.0625"
      ]
     },
     "execution_count": 4,
     "metadata": {},
     "output_type": "execute_result"
    }
   ],
   "source": [
    "# E se forem sinais de dois tempos?\n",
    "binom.pmf(4, 4, 0.5)"
   ]
  },
  {
   "cell_type": "code",
   "execution_count": 5,
   "id": "d3456823-2893-4b11-b509-3db67073ea14",
   "metadata": {},
   "outputs": [
    {
     "data": {
      "text/plain": [
       "1.0"
      ]
     },
     "execution_count": 5,
     "metadata": {},
     "output_type": "execute_result"
    }
   ],
   "source": [
    "# Probabilidade acumulativa\n",
    "binom.cdf(4, 4, 0.25)"
   ]
  },
  {
   "cell_type": "code",
   "execution_count": 6,
   "id": "c0348a3d-149e-401a-a9c1-f4fb5a41deb2",
   "metadata": {},
   "outputs": [
    {
     "data": {
      "text/plain": [
       "0.011471271514892587"
      ]
     },
     "execution_count": 6,
     "metadata": {},
     "output_type": "execute_result"
    }
   ],
   "source": [
    "# Concurso com 12 questões, qual a probabilidade de acertar 7 questões considerando\n",
    "# que cada questão tem 4 alternativas?\n",
    "binom.pmf(7, 12, 0.25) "
   ]
  },
  {
   "cell_type": "code",
   "execution_count": 7,
   "id": "57d91902-bdc5-41f3-9e67-1a639861dee8",
   "metadata": {},
   "outputs": [
    {
     "data": {
      "text/plain": [
       "5.960464477539063e-08"
      ]
     },
     "execution_count": 7,
     "metadata": {},
     "output_type": "execute_result"
    }
   ],
   "source": [
    "# Probabilidade de acertar as 12 questões\n",
    "binom.pmf(12, 12, 0.25) "
   ]
  }
 ],
 "metadata": {
  "kernelspec": {
   "display_name": "Python 3 (ipykernel)",
   "language": "python",
   "name": "python3"
  },
  "language_info": {
   "codemirror_mode": {
    "name": "ipython",
    "version": 3
   },
   "file_extension": ".py",
   "mimetype": "text/x-python",
   "name": "python",
   "nbconvert_exporter": "python",
   "pygments_lexer": "ipython3",
   "version": "3.10.9"
  }
 },
 "nbformat": 4,
 "nbformat_minor": 5
}
