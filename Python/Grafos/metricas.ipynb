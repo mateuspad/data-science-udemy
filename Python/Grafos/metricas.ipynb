{
 "cells": [
  {
   "cell_type": "code",
   "execution_count": 1,
   "id": "b7cd1d38-18bd-453d-a905-13ff9c556e9c",
   "metadata": {},
   "outputs": [],
   "source": [
    "# Formação Cientista de Dados - Fernando Amaral e Jones Granatyr\n",
    "# Igraph\n",
    "# Importação das bibliotecas\n",
    "from igraph import Graph\n",
    "from igraph import plot\n",
    "import igraph"
   ]
  },
  {
   "cell_type": "code",
   "execution_count": 9,
   "id": "ea910b53-9294-467b-9d4c-fc5c2bf2ab01",
   "metadata": {},
   "outputs": [
    {
     "ename": "NotImplementedError",
     "evalue": "Error at src/io/graphml.c:1459: GraphML support is disabled. -- Unimplemented function call",
     "output_type": "error",
     "traceback": [
      "\u001b[1;31m---------------------------------------------------------------------------\u001b[0m",
      "\u001b[1;31mNotImplementedError\u001b[0m                       Traceback (most recent call last)",
      "Cell \u001b[1;32mIn[9], line 2\u001b[0m\n\u001b[0;32m      1\u001b[0m \u001b[38;5;66;03m# Carregamento de grafo no formato graphml\u001b[39;00m\n\u001b[1;32m----> 2\u001b[0m grafo \u001b[38;5;241m=\u001b[39m \u001b[43migraph\u001b[49m\u001b[38;5;241;43m.\u001b[39;49m\u001b[43mload\u001b[49m\u001b[43m(\u001b[49m\u001b[38;5;124;43m'\u001b[39;49m\u001b[38;5;124;43m/temp/data-science/Python/grafos/dados/Grafo.graphml\u001b[39;49m\u001b[38;5;124;43m'\u001b[39;49m\u001b[43m)\u001b[49m\n\u001b[0;32m      3\u001b[0m \u001b[38;5;28mprint\u001b[39m(grafo)\n",
      "File \u001b[1;32m~\\anaconda3\\lib\\site-packages\\igraph\\__init__.py:5282\u001b[0m, in \u001b[0;36mread\u001b[1;34m(filename, *args, **kwds)\u001b[0m\n\u001b[0;32m   5274\u001b[0m \u001b[38;5;28;01mdef\u001b[39;00m \u001b[38;5;21mread\u001b[39m(filename, \u001b[38;5;241m*\u001b[39margs, \u001b[38;5;241m*\u001b[39m\u001b[38;5;241m*\u001b[39mkwds):\n\u001b[0;32m   5275\u001b[0m     \u001b[38;5;124;03m\"\"\"Loads a graph from the given filename.\u001b[39;00m\n\u001b[0;32m   5276\u001b[0m \n\u001b[0;32m   5277\u001b[0m \u001b[38;5;124;03m    This is just a convenience function, calls L{Graph.Read} directly.\u001b[39;00m\n\u001b[1;32m   (...)\u001b[0m\n\u001b[0;32m   5280\u001b[0m \u001b[38;5;124;03m    @param filename: the name of the file to be loaded\u001b[39;00m\n\u001b[0;32m   5281\u001b[0m \u001b[38;5;124;03m    \"\"\"\u001b[39;00m\n\u001b[1;32m-> 5282\u001b[0m     \u001b[38;5;28;01mreturn\u001b[39;00m Graph\u001b[38;5;241m.\u001b[39mRead(filename, \u001b[38;5;241m*\u001b[39margs, \u001b[38;5;241m*\u001b[39m\u001b[38;5;241m*\u001b[39mkwds)\n",
      "File \u001b[1;32m~\\anaconda3\\lib\\site-packages\\igraph\\__init__.py:2941\u001b[0m, in \u001b[0;36mGraph.Read\u001b[1;34m(cls, f, format, *args, **kwds)\u001b[0m\n\u001b[0;32m   2939\u001b[0m     \u001b[38;5;28;01mraise\u001b[39;00m \u001b[38;5;167;01mIOError\u001b[39;00m(\u001b[38;5;124m\"\u001b[39m\u001b[38;5;124mno reader method for file format: \u001b[39m\u001b[38;5;132;01m%s\u001b[39;00m\u001b[38;5;124m\"\u001b[39m \u001b[38;5;241m%\u001b[39m \u001b[38;5;28mstr\u001b[39m(\u001b[38;5;28mformat\u001b[39m))\n\u001b[0;32m   2940\u001b[0m reader \u001b[38;5;241m=\u001b[39m \u001b[38;5;28mgetattr\u001b[39m(\u001b[38;5;28mcls\u001b[39m, reader)\n\u001b[1;32m-> 2941\u001b[0m \u001b[38;5;28;01mreturn\u001b[39;00m reader(f, \u001b[38;5;241m*\u001b[39margs, \u001b[38;5;241m*\u001b[39m\u001b[38;5;241m*\u001b[39mkwds)\n",
      "\u001b[1;31mNotImplementedError\u001b[0m: Error at src/io/graphml.c:1459: GraphML support is disabled. -- Unimplemented function call"
     ]
    }
   ],
   "source": [
    "# Carregamento de grafo no formato graphml\n",
    "grafo = igraph.load('Grafo.graphml')\n",
    "print(grafo)"
   ]
  },
  {
   "cell_type": "code",
   "execution_count": null,
   "id": "b5305a93-2763-4b12-9abe-a9988d2d9111",
   "metadata": {},
   "outputs": [],
   "source": [
    "plot(grafo, bbox = (0,0,600,600))"
   ]
  },
  {
   "cell_type": "code",
   "execution_count": null,
   "id": "ddcc9ca8-a8c5-4374-86bb-928299163fc8",
   "metadata": {},
   "outputs": [],
   "source": [
    "# Visualização do grau de entrada, saída e entrada + saída do grafo\n",
    "grafo.degree(mode = 'all')\n",
    "#grafo.degree(mode = 'in')\n",
    "#grafo.degree(mode = 'out')"
   ]
  },
  {
   "cell_type": "code",
   "execution_count": null,
   "id": "c6482154-d49d-4e33-94c3-7061c018db4b",
   "metadata": {},
   "outputs": [],
   "source": [
    "# Obtendo e imprimindo somente os graus de entrada\n",
    "grau = grafo.degree(mode = 'in')\n",
    "print(grau)"
   ]
  },
  {
   "cell_type": "code",
   "execution_count": null,
   "id": "7daccdec-a2df-47eb-be98-a9dcfc7de187",
   "metadata": {},
   "outputs": [],
   "source": [
    "#gerando o grafo com vertice proporcional ao grau\n",
    "plot(grafo, vertex_size = grau ,bbox = (0,0,600,600))"
   ]
  },
  {
   "cell_type": "code",
   "execution_count": null,
   "id": "3c81d558-e6ef-4eaf-bd52-99b612b9af57",
   "metadata": {},
   "outputs": [],
   "source": [
    "# Retorno do diâmetro do grafo (maior distância entre os vértices)\n",
    "grafo.diameter(directed = True)"
   ]
  },
  {
   "cell_type": "code",
   "execution_count": null,
   "id": "299b6b32-24c5-45b0-87a5-59c44af06b65",
   "metadata": {},
   "outputs": [],
   "source": [
    "# Retorno dos vértices que possuem a maior distância entre os pontos do grafo\n",
    "grafo.get_diameter()"
   ]
  },
  {
   "cell_type": "code",
   "execution_count": null,
   "id": "ce537b22-cc3a-4e62-95ea-578cb4a27f08",
   "metadata": {},
   "outputs": [],
   "source": [
    "# Retorno dos vizinhos de cada vértice\n",
    "grafo.neighborhood()"
   ]
  },
  {
   "cell_type": "code",
   "execution_count": null,
   "id": "e9aec43f-5364-4cd8-8d8b-c2f4b3baaa86",
   "metadata": {},
   "outputs": [],
   "source": [
    "# Verificar se o grafo é isomórfico\n",
    "grafo2 = grafo\n",
    "grafo.isomorphic(grafo2)"
   ]
  }
 ],
 "metadata": {
  "kernelspec": {
   "display_name": "Python 3 (ipykernel)",
   "language": "python",
   "name": "python3"
  },
  "language_info": {
   "codemirror_mode": {
    "name": "ipython",
    "version": 3
   },
   "file_extension": ".py",
   "mimetype": "text/x-python",
   "name": "python",
   "nbconvert_exporter": "python",
   "pygments_lexer": "ipython3",
   "version": "3.10.9"
  }
 },
 "nbformat": 4,
 "nbformat_minor": 5
}
