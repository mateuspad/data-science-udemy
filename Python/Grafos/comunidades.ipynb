{
 "cells": [
  {
   "cell_type": "code",
   "execution_count": 1,
   "id": "9c5eb2c5-cd95-4741-9512-12c397e546f3",
   "metadata": {},
   "outputs": [],
   "source": [
    "# Formação Cientista de Dados - Fernando Amaral e Jones Granatyr\n",
    "# Igraph\n",
    "# Importação das bibliotecas\n",
    "from igraph import Graph\n",
    "from igraph import plot\n",
    "import igraph\n",
    "import numpy as np"
   ]
  },
  {
   "cell_type": "code",
   "execution_count": null,
   "id": "62d4405d-de2d-4861-9561-2c4d91aa09b0",
   "metadata": {},
   "outputs": [],
   "source": [
    "# Carregamento de grafo no formato graphml\n",
    "grafo = igraph.load('Grafo.graphml')\n",
    "print(grafo)"
   ]
  },
  {
   "cell_type": "code",
   "execution_count": null,
   "id": "ab2b182b-932a-43b0-b46f-eb5c239aa7ab",
   "metadata": {},
   "outputs": [],
   "source": [
    "# Visualização do grafo\n",
    "plot(grafo, bbox = (0,0,600,600))"
   ]
  },
  {
   "cell_type": "code",
   "execution_count": null,
   "id": "d1bb3e4f-15f3-4828-81fa-ea613b277a08",
   "metadata": {},
   "outputs": [],
   "source": [
    "# Visualização das comunidades\n",
    "comunidades = grafo.clusters()\n",
    "print(comunidades)"
   ]
  },
  {
   "cell_type": "code",
   "execution_count": null,
   "id": "9f534643-babb-4edf-9afb-b67b71ddeac1",
   "metadata": {},
   "outputs": [],
   "source": [
    "# Visualização em qual comunidade qual registro foi associado\n",
    "comunidades.membership"
   ]
  },
  {
   "cell_type": "code",
   "execution_count": null,
   "id": "7cf90dd4-371f-4f58-b412-f41a6149959d",
   "metadata": {},
   "outputs": [],
   "source": [
    "# Visualização do grafo\n",
    "cores = comunidades.membership\n",
    "# Array de cores para defirmos cores diferentes para cada grupo\n",
    "cores = np.array(cores)\n",
    "cores = cores * 20\n",
    "cores = cores.tolist()\n",
    "plot(grafo, vertex_color = cores)"
   ]
  },
  {
   "cell_type": "code",
   "execution_count": null,
   "id": "818a7664-f59c-4531-a336-c4ae086cab0a",
   "metadata": {},
   "outputs": [],
   "source": [
    "# Criação de grafo direcionado com pesos nas arestas\n",
    "grafo2 = Graph(edges = [(0,2),(0,1),(1,4),(1,5),(2,3),(6,7),(3,7),(4,7),(5,6)],\n",
    "                       directed = True)\n",
    "grafo2.vs['label'] = ['A', 'B', 'C', 'D', 'E', 'F', 'G', 'H']\n",
    "grafo2.es['weight'] = [2,1,2,1,2,1,3,1]"
   ]
  },
  {
   "cell_type": "code",
   "execution_count": null,
   "id": "9211138c-e2e1-436d-a38d-709844f33c74",
   "metadata": {},
   "outputs": [],
   "source": [
    "# Visualização do grafo\n",
    "plot(grafo2, bbox = (0,0,300,300))"
   ]
  },
  {
   "cell_type": "code",
   "execution_count": null,
   "id": "4216338d-016e-4599-9a6e-944d863657da",
   "metadata": {},
   "outputs": [],
   "source": [
    "# Visualização de comunidades e em qual comunidade cada registro foi associado\n",
    "comunidades2 = grafo2.clusters()\n",
    "print(comunidades2)\n",
    "comunidades2.membership"
   ]
  },
  {
   "cell_type": "code",
   "execution_count": null,
   "id": "0f7cb8e9-8dc3-4f6e-898a-e3796038d5f0",
   "metadata": {},
   "outputs": [],
   "source": [
    "# Função mais otimizada para visualização das comunidades\n",
    "c = grafo2.community_edge_betweenness()\n",
    "print(c)\n",
    "# Obtenção do número de clusters\n",
    "c.optimal_count\n",
    "# Visualização da nova comunidade\n",
    "comunidades3 = c.as_clustering()\n",
    "print(comunidades3)\n",
    "comunidades3.membership"
   ]
  },
  {
   "cell_type": "code",
   "execution_count": null,
   "id": "9553542d-5a5a-49ec-9435-3c5abf0023d1",
   "metadata": {},
   "outputs": [],
   "source": [
    "# Geração do grafo das comunidades colocando cores entre os grupos identificados\n",
    "plot(grafo2, vertex_color = comunidades3.membership)\n",
    "cores = comunidades3.membership\n",
    "# Array de cores para defirmos cores diferentes para cada grupo\n",
    "cores = np.array(cores)\n",
    "cores = cores * 100\n",
    "cores = cores.tolist()"
   ]
  },
  {
   "cell_type": "code",
   "execution_count": null,
   "id": "199fb87f-4e87-42eb-ae7d-f1dcdd2b812f",
   "metadata": {},
   "outputs": [],
   "source": [
    "plot(grafo2, bbox = (0,0,300,300), vertex_color = cores)"
   ]
  },
  {
   "cell_type": "code",
   "execution_count": null,
   "id": "5ac39a56-bc45-428b-bf17-19200fe9523b",
   "metadata": {},
   "outputs": [],
   "source": [
    "# Visualização dos cliques\n",
    "cli = grafo.as_undirected().cliques(min = 4)\n",
    "print(cli)\n",
    "len(cli)"
   ]
  }
 ],
 "metadata": {
  "kernelspec": {
   "display_name": "Python 3 (ipykernel)",
   "language": "python",
   "name": "python3"
  },
  "language_info": {
   "codemirror_mode": {
    "name": "ipython",
    "version": 3
   },
   "file_extension": ".py",
   "mimetype": "text/x-python",
   "name": "python",
   "nbconvert_exporter": "python",
   "pygments_lexer": "ipython3",
   "version": "3.10.9"
  }
 },
 "nbformat": 4,
 "nbformat_minor": 5
}
